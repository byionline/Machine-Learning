{
 "cells": [
  {
   "cell_type": "markdown",
   "metadata": {},
   "source": [
    "# 1. Assignment"
   ]
  },
  {
   "cell_type": "markdown",
   "metadata": {},
   "source": [
    "## 1.1 Strings"
   ]
  },
  {
   "cell_type": "code",
   "execution_count": 1,
   "metadata": {},
   "outputs": [
    {
     "name": "stdout",
     "output_type": "stream",
     "text": [
      "M\n",
      " \n",
      "m\n",
      "18\n",
      "My Name is Rajnish\n"
     ]
    }
   ],
   "source": [
    "# Strings\n",
    "\n",
    "input = 'My Name is Rajnish'\n",
    "print(input[0])\n",
    "print(input[2])\n",
    "print(input[5])\n",
    "print(len(input))\n",
    "print(input)"
   ]
  },
  {
   "cell_type": "markdown",
   "metadata": {},
   "source": [
    "## 1.2 Numbers"
   ]
  },
  {
   "cell_type": "code",
   "execution_count": 2,
   "metadata": {},
   "outputs": [
    {
     "name": "stdout",
     "output_type": "stream",
     "text": [
      "980.98\n",
      "901\n"
     ]
    }
   ],
   "source": [
    "# Numbers\n",
    "input = 980.98\n",
    "print(input)\n",
    "input = 901\n",
    "print(input)"
   ]
  },
  {
   "cell_type": "markdown",
   "metadata": {},
   "source": [
    "## 1.3 Boolean"
   ]
  },
  {
   "cell_type": "code",
   "execution_count": 3,
   "metadata": {},
   "outputs": [
    {
     "name": "stdout",
     "output_type": "stream",
     "text": [
      "True False\n"
     ]
    }
   ],
   "source": [
    "# Boolean\n",
    "in1 = True\n",
    "in2 = False\n",
    "print(in1,in2)"
   ]
  },
  {
   "cell_type": "markdown",
   "metadata": {},
   "source": [
    "## 1.4 Multiple Assignment"
   ]
  },
  {
   "cell_type": "code",
   "execution_count": 4,
   "metadata": {},
   "outputs": [
    {
     "name": "stdout",
     "output_type": "stream",
     "text": [
      "98 10 34 11\n"
     ]
    }
   ],
   "source": [
    "# Multiple Assignment\n",
    "in1, in2, in3, in4 = 98, 10, 34, 11\n",
    "print(in1,in2,in3,in4)"
   ]
  },
  {
   "cell_type": "markdown",
   "metadata": {},
   "source": [
    "## 1.5 No Value"
   ]
  },
  {
   "cell_type": "code",
   "execution_count": 5,
   "metadata": {},
   "outputs": [
    {
     "name": "stdout",
     "output_type": "stream",
     "text": [
      "None\n"
     ]
    }
   ],
   "source": [
    "# No Value\n",
    "in1 = None\n",
    "print(in1)"
   ]
  },
  {
   "cell_type": "markdown",
   "metadata": {},
   "source": [
    "# 2. Flow Control"
   ]
  },
  {
   "cell_type": "markdown",
   "metadata": {},
   "source": [
    "## 2.1 If-Then-Else Conditional"
   ]
  },
  {
   "cell_type": "code",
   "execution_count": 6,
   "metadata": {},
   "outputs": [
    {
     "name": "stdout",
     "output_type": "stream",
     "text": [
      " That is fast \n"
     ]
    }
   ],
   "source": [
    "value = 78\n",
    "if value == 78:\n",
    "    print (' That is fast ')\n",
    "elif value > 870:\n",
    "    print (' That is too fast ')\n",
    "else:\n",
    "    print (' That is safe ')"
   ]
  },
  {
   "cell_type": "markdown",
   "metadata": {},
   "source": [
    "## 2.2 For-Loop"
   ]
  },
  {
   "cell_type": "code",
   "execution_count": 7,
   "metadata": {},
   "outputs": [
    {
     "name": "stdout",
     "output_type": "stream",
     "text": [
      "0\n",
      "1\n",
      "2\n",
      "3\n",
      "4\n",
      "5\n",
      "6\n",
      "7\n"
     ]
    }
   ],
   "source": [
    "# For-Loop\n",
    "for i in range(8):\n",
    "    print (i)"
   ]
  },
  {
   "cell_type": "markdown",
   "metadata": {},
   "source": [
    "## 2.3 While-Loop"
   ]
  },
  {
   "cell_type": "code",
   "execution_count": 8,
   "metadata": {},
   "outputs": [
    {
     "name": "stdout",
     "output_type": "stream",
     "text": [
      "0\n",
      "1\n",
      "2\n",
      "3\n",
      "4\n",
      "5\n",
      "6\n",
      "7\n"
     ]
    }
   ],
   "source": [
    "# While-Loop\n",
    "i = 0\n",
    "while i < 8:\n",
    "    print (i)\n",
    "    i += 1"
   ]
  },
  {
   "cell_type": "markdown",
   "metadata": {},
   "source": [
    "# 3. Data Structures"
   ]
  },
  {
   "cell_type": "markdown",
   "metadata": {},
   "source": [
    "## 3.1 Tuple"
   ]
  },
  {
   "cell_type": "code",
   "execution_count": 9,
   "metadata": {},
   "outputs": [
    {
     "name": "stdout",
     "output_type": "stream",
     "text": [
      "(19, 82, 73)\n"
     ]
    },
    {
     "data": {
      "text/plain": [
       "82"
      ]
     },
     "execution_count": 9,
     "metadata": {},
     "output_type": "execute_result"
    }
   ],
   "source": [
    "#Tuple\n",
    "x = (19, 82, 73)\n",
    "print (x)\n",
    "x[0]\n",
    "x[1]\n"
   ]
  },
  {
   "cell_type": "markdown",
   "metadata": {},
   "source": [
    "## 3.2 List"
   ]
  },
  {
   "cell_type": "code",
   "execution_count": 10,
   "metadata": {},
   "outputs": [
    {
     "name": "stdout",
     "output_type": "stream",
     "text": [
      "Number of items in the list before pop out item =  3\n",
      "Fist Element of the List:  132\n",
      "Zeroth Element of the List:  199\n",
      "Number of items in the list after pop out item =  1\n"
     ]
    }
   ],
   "source": [
    "#List\n",
    "mylist = [199, 132, 833]\n",
    "print (\"Number of items in the list before pop out item = \", len(mylist))\n",
    "print('Fist Element of the List: ',mylist.pop(1))\n",
    "print('Zeroth Element of the List: ',mylist.pop(0))\n",
    "\n",
    "print (\"Number of items in the list after pop out item = \", len(mylist))"
   ]
  },
  {
   "cell_type": "code",
   "execution_count": 11,
   "metadata": {},
   "outputs": [
    {
     "name": "stdout",
     "output_type": "stream",
     "text": [
      "Python = 6\n",
      "Java = 4\n",
      "Ruby = 4\n",
      "C++ = 3\n",
      "##################\n",
      "Length of the list  =  4\n"
     ]
    }
   ],
   "source": [
    "List_lang = ['Python', 'Java', 'Ruby', 'C++']\n",
    " \n",
    " \n",
    " \n",
    "for word in List_lang:\n",
    " \n",
    "    print(word, \"=\", len(word))\n",
    " \n",
    "print (\"##################\")\n",
    " \n",
    "print (\"Length of the list  = \", len(List_lang))\n",
    " "
   ]
  },
  {
   "cell_type": "markdown",
   "metadata": {},
   "source": [
    "## 3.3 Dictionary"
   ]
  },
  {
   "cell_type": "code",
   "execution_count": 12,
   "metadata": {},
   "outputs": [
    {
     "name": "stdout",
     "output_type": "stream",
     "text": [
      "X value=  10\n",
      "X value=  11\n",
      "Y value=  12\n",
      "Keys=  dict_keys([' x ', ' y ', ' z '])\n",
      "Values=  dict_values([11, 12, 43])\n"
     ]
    }
   ],
   "source": [
    "# Dictionary\n",
    "\n",
    "dict = { ' x ' : 10, ' y ' : 12, ' z ' : 43}\n",
    "print(\"X value= \", dict[ ' x ' ])\n",
    "dict[ ' x ' ] = 11\n",
    "print(\"X value= \",  dict[ ' x ' ])\n",
    "print(\"Y value= \",  dict[ ' y ' ])\n",
    "print(\"Keys= \",dict.keys())\n",
    "print(\"Values= \",dict.values())"
   ]
  },
  {
   "cell_type": "markdown",
   "metadata": {},
   "source": [
    "# 4. Functions"
   ]
  },
  {
   "cell_type": "code",
   "execution_count": 13,
   "metadata": {},
   "outputs": [
    {
     "name": "stdout",
     "output_type": "stream",
     "text": [
      "111\n"
     ]
    }
   ],
   "source": [
    "# Functions\n",
    "\n",
    "# Sum function\n",
    "def mysum(a, b):\n",
    "    return a + b\n",
    "\n",
    "# Test sum function\n",
    "result = mysum(18, 93)\n",
    "print(result)"
   ]
  },
  {
   "cell_type": "code",
   "execution_count": null,
   "metadata": {},
   "outputs": [],
   "source": []
  }
 ],
 "metadata": {
  "kernelspec": {
   "display_name": "Python 3",
   "language": "python",
   "name": "python3"
  },
  "language_info": {
   "codemirror_mode": {
    "name": "ipython",
    "version": 3
   },
   "file_extension": ".py",
   "mimetype": "text/x-python",
   "name": "python",
   "nbconvert_exporter": "python",
   "pygments_lexer": "ipython3",
   "version": "3.6.6rc1+"
  }
 },
 "nbformat": 4,
 "nbformat_minor": 2
}
