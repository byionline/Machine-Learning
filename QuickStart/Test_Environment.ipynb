{
 "cells": [
  {
   "cell_type": "code",
   "execution_count": 1,
   "metadata": {},
   "outputs": [
    {
     "name": "stdout",
     "output_type": "stream",
     "text": [
      " scipy: 1.3.0 \n",
      " numpy: 1.15.1 \n",
      " matplotlib: 3.1.0 \n",
      " pandas: 0.24.2 \n",
      " sklearn: 0.21.1 \n"
     ]
    },
    {
     "name": "stderr",
     "output_type": "stream",
     "text": [
      "Using TensorFlow backend.\n"
     ]
    },
    {
     "name": "stdout",
     "output_type": "stream",
     "text": [
      " keras: 2.2.4 \n",
      " Tensorflow: 2.0.0-dev20190520 \n"
     ]
    }
   ],
   "source": [
    "# scipy\n",
    "\n",
    "import scipy\n",
    "print( ' scipy: {} ' .format(scipy.__version__))\n",
    "\n",
    "# numpy\n",
    "\n",
    "import numpy\n",
    "print( ' numpy: {} ' .format(numpy.__version__))\n",
    "\n",
    "# matplotlib\n",
    "\n",
    "import matplotlib\n",
    "print( ' matplotlib: {} ' .format(matplotlib.__version__))\n",
    "\n",
    "# pandas\n",
    "\n",
    "import pandas\n",
    "print( ' pandas: {} ' .format(pandas.__version__))\n",
    "\n",
    "# scikit-learn\n",
    "\n",
    "import sklearn\n",
    "print( ' sklearn: {} ' .format(sklearn.__version__))\n",
    "\n",
    "# Keras\n",
    "\n",
    "import keras\n",
    "print( ' keras: {} ' .format(keras.__version__))\n",
    "\n",
    "# TensorFlow\n",
    "\n",
    "import tensorflow as tf\n",
    "print( ' Tensorflow: {} ' .format(tf.__version__))\n"
   ]
  },
  {
   "cell_type": "code",
   "execution_count": null,
   "metadata": {},
   "outputs": [],
   "source": []
  }
 ],
 "metadata": {
  "kernelspec": {
   "display_name": "Python 3",
   "language": "python",
   "name": "python3"
  },
  "language_info": {
   "codemirror_mode": {
    "name": "ipython",
    "version": 3
   },
   "file_extension": ".py",
   "mimetype": "text/x-python",
   "name": "python",
   "nbconvert_exporter": "python",
   "pygments_lexer": "ipython3",
   "version": "3.6.6rc1+"
  }
 },
 "nbformat": 4,
 "nbformat_minor": 2
}
